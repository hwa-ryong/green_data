{
 "cells": [
  {
   "cell_type": "markdown",
   "id": "fdc28b83",
   "metadata": {},
   "source": [
    "## 우리 동네 지역의 남녀 성별 인구 분포"
   ]
  },
  {
   "cell_type": "code",
   "execution_count": 51,
   "id": "055ceff8",
   "metadata": {},
   "outputs": [],
   "source": [
    "import csv\n",
    "with open(\"./datas/gender.csv\", 'r') as f:\n",
    "    data = csv.reader(f)\n",
    "    header = next(data)\n",
    "    \n",
    "    for row in data:\n",
    "        #print(row)\n",
    "        if '경기도' in row[0]:\n",
    "            print(row[2], row[105])  # 남성 총인구, 여성 총인구\n",
    "            break"
   ]
  },
  {
   "cell_type": "code",
   "execution_count": null,
   "id": "4dff2e98",
   "metadata": {},
   "outputs": [],
   "source": []
  },
  {
   "cell_type": "code",
   "execution_count": 50,
   "id": "13a13152",
   "metadata": {},
   "outputs": [
    {
     "name": "stdout",
     "output_type": "stream",
     "text": [
      "지역이름을 입력하세요강남구\n"
     ]
    },
    {
     "data": {
      "image/png": "[encoded data removed]",
      "text/plain": [
       "<Figure size 640x480 with 1 Axes>"
      ]
     },
     "metadata": {},
     "output_type": "display_data"
    }
   ],
   "source": [
    "import csv\n",
    "import matplotlib.pyplot as plt\n",
    "\n",
    "with open(\"./datas/gender.csv\", 'r') as f:\n",
    "    data = csv.reader(f)\n",
    "    header = next(data)\n",
    "    \n",
    "    m = []\n",
    "    fm = []\n",
    "    name = input(\"지역이름을 입력하세요\")\n",
    "    \n",
    "    for row in data:\n",
    "        if name in row[0]:\n",
    "            for i in row[3:104]:\n",
    "                m.append(-int(i.replace(\",\", \"\")))   #숫자로 변환해서 저장함\n",
    "            for i in row[106:]:\n",
    "                fm.append(int(i.replace(\",\", \"\")))\n",
    "            break\n",
    "            \n",
    "                \n",
    "#print(m)\n",
    "#print(fm)\n",
    "# 그래프로 출력\n",
    "plt.rc(\"font\", family=\"Malgun Gothic\")\n",
    "plt.title(name + \"지역의 남여 성별 인구 분포\")\n",
    "plt.rcParams['axes.unicode_minus'] = False\n",
    "plt.barh(range(101), m, label='남성')  #가로 막대형 그래프\n",
    "plt.barh(range(101), fm, label='여성')\n",
    "plt.show()"
   ]
  },
  {
   "cell_type": "code",
   "execution_count": 52,
   "id": "39076da6",
   "metadata": {},
   "outputs": [
    {
     "name": "stdout",
     "output_type": "stream",
     "text": [
      "Batang\n",
      "HCR Batang Ext\n",
      "HCR Batang\n",
      "HCR Batang ExtB\n",
      "HCR Batang ExtB\n",
      "MBatang\n",
      "MJemokBatang\n",
      "HCR Batang\n"
     ]
    }
   ],
   "source": [
    "# 글꼴 찾기\n",
    "import matplotlib.pyplot as plt\n",
    "from matplotlib import font_manager\n",
    "\n",
    "for font in font_manager.fontManager.ttflist:\n",
    "    #print(font)\n",
    "    if \"Batang\" in font.name:\n",
    "        print(font.name)"
   ]
  }
 ],
 "metadata": {
  "kernelspec": {
   "display_name": "Python 3 (ipykernel)",
   "language": "python",
   "name": "python3"
  },
  "language_info": {
   "codemirror_mode": {
    "name": "ipython",
    "version": 3
   },
   "file_extension": ".py",
   "mimetype": "text/x-python",
   "name": "python",
   "nbconvert_exporter": "python",
   "pygments_lexer": "ipython3",
   "version": "3.10.9"
  }
 },
 "nbformat": 4,
 "nbformat_minor": 5
}
