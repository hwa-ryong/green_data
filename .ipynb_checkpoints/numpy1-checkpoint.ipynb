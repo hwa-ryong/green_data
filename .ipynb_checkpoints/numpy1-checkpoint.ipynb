{
 "cells": [
  {
   "cell_type": "markdown",
   "id": "30c26c95",
   "metadata": {},
   "source": [
    "### Numpy : Numerical Python\n",
    "\n",
    "#### 수치계산용 파이썬 라이브러리"
   ]
  },
  {
   "cell_type": "code",
   "execution_count": 3,
   "id": "b132e76a",
   "metadata": {},
   "outputs": [
    {
     "data": {
      "text/plain": [
       "array([3, 5, 7])"
      ]
     },
     "execution_count": 3,
     "metadata": {},
     "output_type": "execute_result"
    }
   ],
   "source": [
    "import numpy as np\n",
    "\n",
    "# 넘파이 배열(리스트) 생성하기\n",
    "a = np.arange(10)\n",
    "a\n",
    "\n",
    "a2 = np.arange(3, 9)\n",
    "a2\n",
    "\n",
    "a3 = np.arange(3, 9, 2)\n",
    "a3\n"
   ]
  },
  {
   "cell_type": "code",
   "execution_count": 4,
   "id": "b569aa8b",
   "metadata": {},
   "outputs": [
    {
     "data": {
      "text/plain": [
       "array([1, 2, 3, 4])"
      ]
     },
     "execution_count": 4,
     "metadata": {},
     "output_type": "execute_result"
    }
   ],
   "source": [
    "# 넘파이 배열(리스트) 생성하기\n",
    "b = [1, 2, 3, 4]\n",
    "arr = np.array(b)\n",
    "arr"
   ]
  },
  {
   "cell_type": "code",
   "execution_count": 5,
   "id": "e2224298",
   "metadata": {},
   "outputs": [
    {
     "name": "stdout",
     "output_type": "stream",
     "text": [
      "['봄' '여름' '가을' '겨울']\n"
     ]
    }
   ],
   "source": [
    "import numpy as np\n",
    "\n",
    "c = ['봄', '여름', '가을', '겨울']\n",
    "arr2 = np.array(c)\n",
    "arr2\n",
    "print(arr2)"
   ]
  },
  {
   "cell_type": "code",
   "execution_count": 45,
   "id": "d764cb20",
   "metadata": {},
   "outputs": [],
   "source": [
    "import numpy as np\n",
    "\n",
    "순위 = 1 + np.arange(10)   # 0 ~ 9 \n",
    "팀 = np.array(['SSG', 'LG', '키움', 'KT', '기아', 'NC', '삼성', '롯데', '두산', '한화'])\n",
    "승 = np.array([88, 87, 80, 80, 70, 67, 66, 64, 60, 46])\n",
    "패 = np.array([52, 55, 62, 62, 73, 74, 76, 76, 82, 96])\n",
    "무 = np.array([4, 2, 2, 2, 1, 3, 2, 4, 2, 2])\n",
    "승률 = np.array([0.629, 0.613, 0.563, 0.563, 0.490, 0.475, 0.465, 0.457, 0.423, 0.324])\n",
    "# print(팀)\n",
    "# print(승)\n",
    "\n",
    "with open(\"datas/2022kbo.txt\", 'w') as f:\n",
    "    f.write(\"============ 2022 한국 프로야구 성적표 ============\\n\")\n",
    "    head = \"순위\\t팀\\t승\\t패\\t무\\t승률\"\n",
    "    f.write(head)\n",
    "    f.write('\\n')\n",
    "    for i in range(len(팀)): # 10번 반복\n",
    "        txt = f'{순위[i]}\\t{팀[i]}\\t{승[i]}\\t{패[i]}\\t{무[i]}\\t{승률[i]}\\n'\n",
    "        f.write(txt)"
   ]
  },
  {
   "cell_type": "code",
   "execution_count": 43,
   "id": "4b059d1d",
   "metadata": {},
   "outputs": [
    {
     "name": "stdout",
     "output_type": "stream",
     "text": [
      "\n"
     ]
    }
   ],
   "source": [
    "with open(\"datas/2022kbo.txt\", 'r') as f:\n",
    "    data = f.read()\n",
    "    print(data)"
   ]
  },
  {
   "cell_type": "code",
   "execution_count": null,
   "id": "28ee6772",
   "metadata": {},
   "outputs": [],
   "source": []
  },
  {
   "cell_type": "markdown",
   "id": "1d67ed71",
   "metadata": {},
   "source": [
    "### 넘파이의 N차원 배열\n",
    "#### 1차원 배열은 벡터(vector)라 함\n",
    "#### 2차원 배열은 행렬(matrix) - 수, 또는 문자를 괄호안에 직사각형 형태로 배열\n",
    "#### 3차원 배열은 텐서(tensor)라 함"
   ]
  },
  {
   "cell_type": "code",
   "execution_count": 21,
   "id": "2f3c8e76",
   "metadata": {},
   "outputs": [
    {
     "name": "stdout",
     "output_type": "stream",
     "text": [
      "[1 2]\n",
      "2\n",
      "4\n",
      "[3 0]\n",
      "[0 6]\n",
      "[[ 4  2]\n",
      " [ 3 10]]\n",
      "[[-2  2]\n",
      " [ 3 -2]]\n",
      "[[ 3  0]\n",
      " [ 0 24]]\n"
     ]
    }
   ],
   "source": [
    "A = np.array([[1, 2], [3, 4]])\n",
    "B = np.array([[3, 0], [0, 6]])\n",
    "#print(A)\n",
    "#print(A.shape)   #(2, 2) -> 2행 2열\n",
    "#print(B)\n",
    "#print(B.shape)\n",
    "\n",
    "#인덱싱\n",
    "print(A[0])\n",
    "print(A[0][1])\n",
    "print(A[1][1])\n",
    "\n",
    "# 전체 조회\n",
    "for row in B:\n",
    "    print(row)\n",
    "\n",
    "# 연산\n",
    "print(A+B)\n",
    "print(A-B)\n",
    "print(A*B)\n",
    "#print(A/B)"
   ]
  },
  {
   "cell_type": "code",
   "execution_count": null,
   "id": "b5ee6258",
   "metadata": {},
   "outputs": [],
   "source": []
  }
 ],
 "metadata": {
  "kernelspec": {
   "display_name": "Python 3 (ipykernel)",
   "language": "python",
   "name": "python3"
  },
  "language_info": {
   "codemirror_mode": {
    "name": "ipython",
    "version": 3
   },
   "file_extension": ".py",
   "mimetype": "text/x-python",
   "name": "python",
   "nbconvert_exporter": "python",
   "pygments_lexer": "ipython3",
   "version": "3.10.9"
  }
 },
 "nbformat": 4,
 "nbformat_minor": 5
}
