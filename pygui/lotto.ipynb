{
 "cells": [
  {
   "cell_type": "code",
   "execution_count": 15,
   "id": "7201886b",
   "metadata": {},
   "outputs": [
    {
     "name": "stdout",
     "output_type": "stream",
     "text": [
      "당첨번호\n",
      "['3', '6', '22', '23', '24', '38']\n",
      "보너스번호\n",
      "30\n"
     ]
    }
   ],
   "source": [
    "import requests\n",
    "from bs4 import BeautifulSoup\n",
    "\n",
    "num = 1063\n",
    "url = \"https://www.dhlottery.co.kr/gameResult.do?method=byWin&drwNo={}\".format(num)\n",
    "response = requests.get(url)\n",
    "#print(response.text)\n",
    "\n",
    "\n",
    "soup = BeautifulSoup(response.text, \"html.parser\")\n",
    "win_result = soup.select_one('div.win_result') # 태그이름.클래스이름\n",
    "#print(win_result)\n",
    "win_list = win_result.text.split('\\n')\n",
    "win_list\n",
    "win_list = win_result.text.split('\\n')[7:13]\n",
    "win_list\n",
    "bonus_num = win_result.text.split('\\n')[-4]\n",
    "bonus_num\n",
    "print('당첨번호')\n",
    "print(win_list)\n",
    "print('보너스번호')\n",
    "print(bonus_num)\n",
    "\n"
   ]
  },
  {
   "cell_type": "markdown",
   "id": "30e63c45",
   "metadata": {},
   "source": [
    "## 로또 당첨번호 앱 제작"
   ]
  },
  {
   "cell_type": "code",
   "execution_count": 28,
   "id": "c185c61a",
   "metadata": {},
   "outputs": [],
   "source": [
    "import requests\n",
    "from bs4 import BeautifulSoup\n",
    "from tkinter import *\n",
    "\n",
    "\n",
    "def lotto_win():\n",
    "    #num = 1063\n",
    "    num = entry.get()  #폼에 입력된 값\n",
    "    url = \"https://www.dhlottery.co.kr/gameResult.do?method=byWin&drwNo={}\".format(num)\n",
    "    response = requests.get(url)\n",
    "    #print(response.text)\n",
    "    soup = BeautifulSoup(response.text, \"html.parser\")\n",
    "    win_result = soup.select_one('div.win_result') # 태그이름.클래스이름\n",
    "    #print(win_result)\n",
    "    win_list = win_result.text.split('\\n')\n",
    "    win_list\n",
    "    win_list = win_result.text.split('\\n')[7:13]\n",
    "    win_list\n",
    "    bonus_num = win_result.text.split('\\n')[-4]\n",
    "    bonus_num\n",
    "    \n",
    "    # 출력 상자에 번호 출력\n",
    "    output.delete(0.0, END)   #첫행 첫문자위치에서 시작\n",
    "    output.insert(END, f'당첨번호: {win_list}\\n\\n보너스번호: {bonus_num}')\n",
    "    '''\n",
    "    print('당첨번호')\n",
    "    print(win_list)\n",
    "    print('보너스번호')\n",
    "    print(bonus_num)\n",
    "    '''\n",
    "    \n",
    "#lotto_win()\n",
    "window = Tk()\n",
    "window.title(\"로또 당첨 확인\")\n",
    "\n",
    "Label(window, text=\"당첨 회차 입력: \").grid(row=0, column=0)\n",
    "entry = Entry(window, bg='yellow')\n",
    "entry.grid(row=1, column=0, sticky=W)\n",
    "\n",
    "btn = Button(window, text=\"당첨 번호 확인\", command=lotto_win)\n",
    "btn.grid(row=2, column=0, sticky=W)\n",
    "# 출력 상자\n",
    "output = Text(window, bg='skyblue', width=50, height=5)\n",
    "output.grid(row=3, column=0, sticky=W)\n",
    "\n",
    "\n",
    "window.mainloop()\n",
    "\n",
    "    "
   ]
  },
  {
   "cell_type": "code",
   "execution_count": null,
   "id": "9f24aa89",
   "metadata": {},
   "outputs": [],
   "source": []
  }
 ],
 "metadata": {
  "kernelspec": {
   "display_name": "Python 3 (ipykernel)",
   "language": "python",
   "name": "python3"
  },
  "language_info": {
   "codemirror_mode": {
    "name": "ipython",
    "version": 3
   },
   "file_extension": ".py",
   "mimetype": "text/x-python",
   "name": "python",
   "nbconvert_exporter": "python",
   "pygments_lexer": "ipython3",
   "version": "3.10.9"
  }
 },
 "nbformat": 4,
 "nbformat_minor": 5
}
